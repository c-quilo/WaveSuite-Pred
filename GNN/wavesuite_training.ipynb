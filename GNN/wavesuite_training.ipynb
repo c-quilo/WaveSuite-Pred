{
 "cells": [
  {
   "cell_type": "code",
   "execution_count": 1,
   "metadata": {},
   "outputs": [],
   "source": [
    "import os\n",
    "import numpy as np\n",
    "import torch\n",
    "\n",
    "from torch_geometric.data import Data, Dataset\n",
    "from graph_functions import build_WaveSuite"
   ]
  },
  {
   "cell_type": "code",
   "execution_count": 2,
   "metadata": {},
   "outputs": [
    {
     "name": "stdout",
     "output_type": "stream",
     "text": [
      "Torch version: 2.0.1+cu117\n",
      "Cuda available: True\n",
      "Torch geometric version: 2.3.1\n"
     ]
    }
   ],
   "source": [
    "import torch_geometric\n",
    "\n",
    "print(f\"Torch version: {torch.__version__}\")\n",
    "print(f\"Cuda available: {torch.cuda.is_available()}\")\n",
    "print(f\"Torch geometric version: {torch_geometric.__version__}\")"
   ]
  },
  {
   "cell_type": "code",
   "execution_count": 3,
   "metadata": {},
   "outputs": [],
   "source": [
    "# parent_folder = '../../Datasets/WaveSuite_VTK_fake_copy'    # 'temporal_practice_wavesuite'\n",
    "parent_folder = '/home/caq13/realhome/WaveSuite/regularWave'\n",
    "original_folder = parent_folder + '/.'  # Also called orig_dir\n",
    "\n",
    "features_list = ['nut'] \n",
    "\n",
    "original_files_list = os.listdir(original_folder)\n",
    "original_files_list = [file for file in original_files_list if file[-4:]=='.vtu']\n",
    "\n",
    "sparse_adjacency_matrix = torch.load('../preprocessing/wave_complete_edge_list.pt')\n",
    "sparse_adjacency_matrix = sparse_adjacency_matrix.long()\n",
    "\n",
    "xmin_orig = 0\n",
    "xmax_orig = 7.2"
   ]
  },
  {
   "cell_type": "code",
   "execution_count": 4,
   "metadata": {},
   "outputs": [
    {
     "data": {
      "text/plain": [
       "['regularWave_86.vtu',\n",
       " 'regularWave_42.vtu',\n",
       " 'regularWave_39.vtu',\n",
       " 'regularWave_100.vtu',\n",
       " 'regularWave_54.vtu',\n",
       " 'regularWave_118.vtu',\n",
       " 'regularWave_44.vtu',\n",
       " 'regularWave_95.vtu',\n",
       " 'regularWave_73.vtu',\n",
       " 'regularWave_25.vtu',\n",
       " 'regularWave_48.vtu',\n",
       " 'regularWave_60.vtu',\n",
       " 'regularWave_57.vtu',\n",
       " 'regularWave_85.vtu',\n",
       " 'regularWave_97.vtu',\n",
       " 'regularWave_70.vtu',\n",
       " 'regularWave_131.vtu',\n",
       " 'regularWave_0.vtu',\n",
       " 'regularWave_66.vtu',\n",
       " 'regularWave_21.vtu',\n",
       " 'regularWave_6.vtu',\n",
       " 'regularWave_121.vtu',\n",
       " 'regularWave_127.vtu',\n",
       " 'regularWave_17.vtu',\n",
       " 'regularWave_59.vtu',\n",
       " 'regularWave_91.vtu',\n",
       " 'regularWave_19.vtu',\n",
       " 'regularWave_11.vtu',\n",
       " 'regularWave_130.vtu',\n",
       " 'regularWave_32.vtu',\n",
       " 'regularWave_46.vtu',\n",
       " 'regularWave_89.vtu',\n",
       " 'regularWave_29.vtu',\n",
       " 'regularWave_117.vtu',\n",
       " 'regularWave_53.vtu',\n",
       " 'regularWave_111.vtu',\n",
       " 'regularWave_36.vtu',\n",
       " 'regularWave_83.vtu',\n",
       " 'regularWave_56.vtu',\n",
       " 'regularWave_67.vtu',\n",
       " 'regularWave_98.vtu',\n",
       " 'regularWave_92.vtu',\n",
       " 'regularWave_116.vtu',\n",
       " 'regularWave_122.vtu',\n",
       " 'regularWave_71.vtu',\n",
       " 'regularWave_124.vtu',\n",
       " 'regularWave_102.vtu',\n",
       " 'regularWave_16.vtu',\n",
       " 'regularWave_58.vtu',\n",
       " 'regularWave_40.vtu',\n",
       " 'regularWave_68.vtu',\n",
       " 'regularWave_10.vtu',\n",
       " 'regularWave_37.vtu',\n",
       " 'regularWave_31.vtu',\n",
       " 'regularWave_50.vtu',\n",
       " 'regularWave_64.vtu',\n",
       " 'regularWave_113.vtu',\n",
       " 'regularWave_45.vtu',\n",
       " 'regularWave_26.vtu',\n",
       " 'regularWave_126.vtu',\n",
       " 'regularWave_106.vtu',\n",
       " 'regularWave_38.vtu',\n",
       " 'regularWave_15.vtu',\n",
       " 'regularWave_114.vtu',\n",
       " 'regularWave_80.vtu',\n",
       " 'regularWave_51.vtu',\n",
       " 'regularWave_119.vtu',\n",
       " 'regularWave_94.vtu',\n",
       " 'regularWave_33.vtu',\n",
       " 'regularWave_55.vtu',\n",
       " 'regularWave_82.vtu',\n",
       " 'regularWave_24.vtu',\n",
       " 'regularWave_14.vtu',\n",
       " 'regularWave_75.vtu',\n",
       " 'regularWave_108.vtu',\n",
       " 'regularWave_52.vtu',\n",
       " 'regularWave_115.vtu',\n",
       " 'regularWave_128.vtu',\n",
       " 'regularWave_81.vtu',\n",
       " 'regularWave_41.vtu',\n",
       " 'regularWave_125.vtu',\n",
       " 'regularWave_4.vtu',\n",
       " 'regularWave_3.vtu',\n",
       " 'regularWave_62.vtu',\n",
       " 'regularWave_47.vtu',\n",
       " 'regularWave_72.vtu',\n",
       " 'regularWave_110.vtu',\n",
       " 'regularWave_20.vtu',\n",
       " 'regularWave_65.vtu',\n",
       " 'regularWave_87.vtu',\n",
       " 'regularWave_76.vtu',\n",
       " 'regularWave_8.vtu',\n",
       " 'regularWave_13.vtu',\n",
       " 'regularWave_1.vtu',\n",
       " 'regularWave_5.vtu',\n",
       " 'regularWave_105.vtu',\n",
       " 'regularWave_79.vtu',\n",
       " 'regularWave_22.vtu',\n",
       " 'regularWave_69.vtu',\n",
       " 'regularWave_77.vtu',\n",
       " 'regularWave_34.vtu',\n",
       " 'regularWave_35.vtu',\n",
       " 'regularWave_93.vtu',\n",
       " 'regularWave_78.vtu',\n",
       " 'regularWave_9.vtu',\n",
       " 'regularWave_74.vtu',\n",
       " 'regularWave_49.vtu',\n",
       " 'regularWave_123.vtu',\n",
       " 'regularWave_88.vtu',\n",
       " 'regularWave_112.vtu',\n",
       " 'regularWave_30.vtu',\n",
       " 'regularWave_120.vtu',\n",
       " 'regularWave_23.vtu',\n",
       " 'regularWave_129.vtu',\n",
       " 'regularWave_109.vtu',\n",
       " 'regularWave_27.vtu',\n",
       " 'regularWave_101.vtu',\n",
       " 'regularWave_96.vtu',\n",
       " 'regularWave_7.vtu',\n",
       " 'regularWave_2.vtu',\n",
       " 'regularWave_107.vtu',\n",
       " 'regularWave_103.vtu',\n",
       " 'regularWave_63.vtu',\n",
       " 'regularWave_90.vtu',\n",
       " 'regularWave_61.vtu',\n",
       " 'regularWave_28.vtu',\n",
       " 'regularWave_12.vtu',\n",
       " 'regularWave_84.vtu',\n",
       " 'regularWave_99.vtu',\n",
       " 'regularWave_43.vtu',\n",
       " 'regularWave_104.vtu',\n",
       " 'regularWave_18.vtu']"
      ]
     },
     "execution_count": 4,
     "metadata": {},
     "output_type": "execute_result"
    }
   ],
   "source": [
    "original_files_list"
   ]
  },
  {
   "cell_type": "code",
   "execution_count": 5,
   "metadata": {},
   "outputs": [
    {
     "name": "stdout",
     "output_type": "stream",
     "text": [
      "RETURN list:  processed_file_names\n",
      "self.indices() :  range(0, 105)\n"
     ]
    }
   ],
   "source": [
    "wavesuite_object_train = build_WaveSuite(root=parent_folder, original_files_list=original_files_list, \n",
    "                                   features_list='U', fixed_edge_index=sparse_adjacency_matrix,\n",
    "                      xmin_orig = xmin_orig, xmax_orig = xmax_orig , minimum_scaler=0, maximum_scaler=1 ,\n",
    "                                  test='train' )"
   ]
  },
  {
   "cell_type": "code",
   "execution_count": 6,
   "metadata": {},
   "outputs": [
    {
     "name": "stdout",
     "output_type": "stream",
     "text": [
      "RETURN list:  processed_file_names\n",
      "self.indices() :  range(0, 13)\n"
     ]
    }
   ],
   "source": [
    "wavesuite_object_validation = build_WaveSuite(root=parent_folder, original_files_list=original_files_list, \n",
    "                                   features_list=features_list, fixed_edge_index=sparse_adjacency_matrix,\n",
    "                      xmin_orig = xmin_orig, xmax_orig = xmax_orig , minimum_scaler=0, maximum_scaler=1 ,\n",
    "                                  test='validation' )"
   ]
  },
  {
   "cell_type": "code",
   "execution_count": 7,
   "metadata": {},
   "outputs": [
    {
     "name": "stdout",
     "output_type": "stream",
     "text": [
      "RETURN list:  processed_file_names\n",
      "self.indices() :  range(0, 14)\n"
     ]
    }
   ],
   "source": [
    "wavesuite_object_test = build_WaveSuite(root=parent_folder, original_files_list=original_files_list, \n",
    "                                   features_list=features_list, fixed_edge_index=sparse_adjacency_matrix,\n",
    "                      xmin_orig = xmin_orig, xmax_orig = xmax_orig , minimum_scaler=0, maximum_scaler=1 ,\n",
    "                                  test='test' )"
   ]
  },
  {
   "cell_type": "code",
   "execution_count": 8,
   "metadata": {},
   "outputs": [
    {
     "data": {
      "text/plain": [
       "build_WaveSuite(14)"
      ]
     },
     "execution_count": 8,
     "metadata": {},
     "output_type": "execute_result"
    }
   ],
   "source": [
    "wavesuite_object_test"
   ]
  },
  {
   "cell_type": "code",
   "execution_count": 9,
   "metadata": {},
   "outputs": [],
   "source": [
    "from torch_geometric.loader import DataLoader"
   ]
  },
  {
   "cell_type": "code",
   "execution_count": 10,
   "metadata": {},
   "outputs": [],
   "source": [
    "NUM_GRAPHS_PER_BATCH = 8\n",
    "train_loader = DataLoader(wavesuite_object_train, batch_size=NUM_GRAPHS_PER_BATCH, shuffle=True)\n",
    "validation_loader = DataLoader(wavesuite_object_validation, batch_size=NUM_GRAPHS_PER_BATCH, shuffle=True)\n",
    "test_loader = DataLoader(wavesuite_object_test, batch_size=NUM_GRAPHS_PER_BATCH, shuffle=True)"
   ]
  },
  {
   "cell_type": "code",
   "execution_count": 11,
   "metadata": {},
   "outputs": [
    {
     "name": "stdout",
     "output_type": "stream",
     "text": [
      "<torch_geometric.loader.dataloader.DataLoader object at 0x7f150a208ad0>\n"
     ]
    }
   ],
   "source": [
    "print(train_loader)"
   ]
  },
  {
   "cell_type": "code",
   "execution_count": 12,
   "metadata": {},
   "outputs": [],
   "source": [
    "from train_top_AE import train_top_AE, evaluate_top_AE , model_MSE_error\n"
   ]
  },
  {
   "cell_type": "code",
   "execution_count": 42,
   "metadata": {},
   "outputs": [
    {
     "name": "stdout",
     "output_type": "stream",
     "text": [
      "311203\n"
     ]
    }
   ],
   "source": [
    "#This dictionary stores the losses results of the models\n",
    "results_models = {}\n",
    "\n",
    "#These are the models specifications\n",
    "num_features = 1  #This is always 1\n",
    "embedding_sequence = None\n",
    "num_epochs = 500 #Change to 20 and then to 50 \n",
    "n_points = wavesuite_object_train[0].x.shape[0]  \n",
    "print(n_points)\n"
   ]
  },
  {
   "cell_type": "code",
   "execution_count": 44,
   "metadata": {},
   "outputs": [
    {
     "data": {
      "image/png": "[encoded data removed]",
      "text/plain": [
       "<Figure size 1200x800 with 2 Axes>"
      ]
     },
     "metadata": {},
     "output_type": "display_data"
    },
    {
     "name": "stdout",
     "output_type": "stream",
     "text": [
      "log loss\n",
      "\ttraining         \t (min:    0.000, max:    0.207, cur:    0.000)\n",
      "\tvalidation       \t (min:    0.000, max:    0.040, cur:    0.000)\n",
      "\n",
      " Number of parameters:  319246499\n",
      "Time taken:  1730.6169233322144\n"
     ]
    }
   ],
   "source": [
    "import time\n",
    "\n",
    "# Use GPU for training\n",
    "preferred_device = torch.device(\"cuda:0\" if torch.cuda.is_available() else \"cpu\") \n",
    "# preferred_device = torch.device(\"cpu\")\n",
    "start = time.time()\n",
    "\n",
    "latent_space_dim = 256\n",
    "\n",
    "model_name = 'latDim256'\n",
    "\n",
    "model1, results_models[model_name] = train_top_AE(train_loader, validation_loader, \n",
    "                                                n_points, num_features, embedding_sequence=embedding_sequence , \n",
    "                                                latent_space_dim=latent_space_dim, ae_model_type='classic_AE_variant3', \n",
    "                                                num_epochs=num_epochs, device=preferred_device)\n",
    "\n",
    "end = time.time()\n",
    "\n",
    "print('Time taken: ',end-start) "
   ]
  },
  {
   "cell_type": "code",
   "execution_count": 46,
   "metadata": {},
   "outputs": [
    {
     "data": {
      "image/png": "[encoded data removed]",
      "text/plain": [
       "<Figure size 1600x1200 with 2 Axes>"
      ]
     },
     "metadata": {},
     "output_type": "display_data"
    }
   ],
   "source": [
    "import sys\n",
    "sys.path.insert(0, '../../auxiliary_scripts')\n",
    "\n",
    "from rank_models import plot_losses , rank_losses\n",
    "models_names = list( results_models.keys() )\n",
    "filename = 'classic_AE_variant3_256latDim_WaveSuite'+'.png'\n",
    "plot_losses(results_models, models_names, figsize=(16,12), filename=filename)"
   ]
  },
  {
   "cell_type": "code",
   "execution_count": 47,
   "metadata": {},
   "outputs": [
    {
     "data": {
      "text/html": [
       "<div>\n",
       "<style scoped>\n",
       "    .dataframe tbody tr th:only-of-type {\n",
       "        vertical-align: middle;\n",
       "    }\n",
       "\n",
       "    .dataframe tbody tr th {\n",
       "        vertical-align: top;\n",
       "    }\n",
       "\n",
       "    .dataframe thead th {\n",
       "        text-align: right;\n",
       "    }\n",
       "</style>\n",
       "<table border=\"1\" class=\"dataframe\">\n",
       "  <thead>\n",
       "    <tr style=\"text-align: right;\">\n",
       "      <th></th>\n",
       "      <th>variants_name</th>\n",
       "      <th>final_validation_loss</th>\n",
       "    </tr>\n",
       "  </thead>\n",
       "  <tbody>\n",
       "    <tr>\n",
       "      <th>0</th>\n",
       "      <td>latDim256</td>\n",
       "      <td>5.175424e-09</td>\n",
       "    </tr>\n",
       "  </tbody>\n",
       "</table>\n",
       "</div>"
      ],
      "text/plain": [
       "  variants_name  final_validation_loss\n",
       "0     latDim256           5.175424e-09"
      ]
     },
     "execution_count": 47,
     "metadata": {},
     "output_type": "execute_result"
    }
   ],
   "source": [
    "rank_losses(results_models, models_names, selected_epoch = int(num_epochs/4) )"
   ]
  },
  {
   "cell_type": "code",
   "execution_count": 48,
   "metadata": {},
   "outputs": [
    {
     "data": {
      "text/html": [
       "<div>\n",
       "<style scoped>\n",
       "    .dataframe tbody tr th:only-of-type {\n",
       "        vertical-align: middle;\n",
       "    }\n",
       "\n",
       "    .dataframe tbody tr th {\n",
       "        vertical-align: top;\n",
       "    }\n",
       "\n",
       "    .dataframe thead th {\n",
       "        text-align: right;\n",
       "    }\n",
       "</style>\n",
       "<table border=\"1\" class=\"dataframe\">\n",
       "  <thead>\n",
       "    <tr style=\"text-align: right;\">\n",
       "      <th></th>\n",
       "      <th>variants_name</th>\n",
       "      <th>final_validation_loss</th>\n",
       "    </tr>\n",
       "  </thead>\n",
       "  <tbody>\n",
       "    <tr>\n",
       "      <th>0</th>\n",
       "      <td>latDim256</td>\n",
       "      <td>5.175425e-09</td>\n",
       "    </tr>\n",
       "  </tbody>\n",
       "</table>\n",
       "</div>"
      ],
      "text/plain": [
       "  variants_name  final_validation_loss\n",
       "0     latDim256           5.175425e-09"
      ]
     },
     "execution_count": 48,
     "metadata": {},
     "output_type": "execute_result"
    }
   ],
   "source": [
    "rank_losses(results_models, models_names, selected_epoch = int(num_epochs/2) )"
   ]
  },
  {
   "cell_type": "code",
   "execution_count": 49,
   "metadata": {},
   "outputs": [
    {
     "name": "stdout",
     "output_type": "stream",
     "text": [
      "CSV was saved\n"
     ]
    },
    {
     "data": {
      "text/html": [
       "<div>\n",
       "<style scoped>\n",
       "    .dataframe tbody tr th:only-of-type {\n",
       "        vertical-align: middle;\n",
       "    }\n",
       "\n",
       "    .dataframe tbody tr th {\n",
       "        vertical-align: top;\n",
       "    }\n",
       "\n",
       "    .dataframe thead th {\n",
       "        text-align: right;\n",
       "    }\n",
       "</style>\n",
       "<table border=\"1\" class=\"dataframe\">\n",
       "  <thead>\n",
       "    <tr style=\"text-align: right;\">\n",
       "      <th></th>\n",
       "      <th>Model name</th>\n",
       "      <th>variants_name</th>\n",
       "      <th>final_validation_loss</th>\n",
       "    </tr>\n",
       "  </thead>\n",
       "  <tbody>\n",
       "    <tr>\n",
       "      <th>0</th>\n",
       "      <td>classic_AE_variant1_256latDim</td>\n",
       "      <td>latDim256</td>\n",
       "      <td>5.175425e-09</td>\n",
       "    </tr>\n",
       "  </tbody>\n",
       "</table>\n",
       "</div>"
      ],
      "text/plain": [
       "                      Model name variants_name  final_validation_loss\n",
       "0  classic_AE_variant1_256latDim     latDim256           5.175425e-09"
      ]
     },
     "execution_count": 49,
     "metadata": {},
     "output_type": "execute_result"
    }
   ],
   "source": [
    "first_column_model_name = 'classic_AE_variant1_256latDim'\n",
    "filename = 'final_model_WaveSuite'+'_50epochs.csv'\n",
    "\n",
    "df_losses = rank_losses(results_models, models_names, selected_epoch = num_epochs,\n",
    "                       first_column_model_name = first_column_model_name, filename = filename )\n",
    "\n",
    "df_losses"
   ]
  },
  {
   "cell_type": "code",
   "execution_count": 75,
   "metadata": {},
   "outputs": [],
   "source": [
    "# Directory to save checkpoints\n",
    "checkpoint_dir = './checkpoints'\n",
    "os.makedirs(checkpoint_dir, exist_ok=True)\n",
    "\n",
    "# Model\n",
    "model = Net(\n",
    "    num_node_features=1,\n",
    "    num_output_features=1,\n",
    "    ).to(device)"
   ]
  },
  {
   "cell_type": "code",
   "execution_count": 78,
   "metadata": {},
   "outputs": [
    {
     "ename": "AttributeError",
     "evalue": "'NoneType' object has no attribute 'double'",
     "output_type": "error",
     "traceback": [
      "\u001b[0;31m---------------------------------------------------------------------------\u001b[0m",
      "\u001b[0;31mAttributeError\u001b[0m                            Traceback (most recent call last)",
      "Cell \u001b[0;32mIn[78], line 15\u001b[0m\n\u001b[1;32m     13\u001b[0m optimizer\u001b[39m.\u001b[39mzero_grad()\n\u001b[1;32m     14\u001b[0m data\u001b[39m.\u001b[39mx \u001b[39m=\u001b[39m data\u001b[39m.\u001b[39mx\u001b[39m.\u001b[39mdouble()  \u001b[39m# Transform input features to double data type\u001b[39;00m\n\u001b[0;32m---> 15\u001b[0m data\u001b[39m.\u001b[39my \u001b[39m=\u001b[39m data\u001b[39m.\u001b[39;49my\u001b[39m.\u001b[39;49mdouble()  \u001b[39m# Transform target values to double data type\u001b[39;00m\n\u001b[1;32m     16\u001b[0m out \u001b[39m=\u001b[39m model(data)\n\u001b[1;32m     18\u001b[0m loss \u001b[39m=\u001b[39m F\u001b[39m.\u001b[39mmse_loss(out, data\u001b[39m.\u001b[39my)  \u001b[39m# MSE loss for regression\u001b[39;00m\n",
      "\u001b[0;31mAttributeError\u001b[0m: 'NoneType' object has no attribute 'double'"
     ]
    }
   ],
   "source": [
    "optimizer = optim.Adam(model.parameters(), lr=0.0001)\n",
    "\n",
    "# Training loop\n",
    "model.train()\n",
    "for epoch in range(1000):\n",
    "    train_loss = 0.0\n",
    "    test_loss = 0.0\n",
    "\n",
    "    # Training\n",
    "    model.train()\n",
    "    for batch in train_loader:\n",
    "        data = batch.to(device)\n",
    "        optimizer.zero_grad()\n",
    "        data.x = data.x.double()  # Transform input features to double data type\n",
    "        data.y = data.y.double()  # Transform target values to double data type\n",
    "        out = model(data)\n",
    "\n",
    "        loss = F.mse_loss(out, data.y)  # MSE loss for regression\n",
    "        loss.backward()\n",
    "        optimizer.step()\n",
    "\n",
    "        train_loss += loss.item() * data.num_graphs\n",
    "\n",
    "    # Testing\n",
    "    model.eval()\n",
    "    with torch.no_grad():\n",
    "        for batch in test_loader:\n",
    "            data = batch.to(device)\n",
    "            data.x = data.x.double()  # Transform input features to double data type\n",
    "            data.y = data.y.double()  # Transform target values to double data type\n",
    "            out = model(data)\n",
    "            loss = F.mse_loss(out, data.y)  # MSE loss for regression\n",
    "\n",
    "            test_loss += loss.item() * data.num_graphs\n",
    "\n",
    "    # Compute average loss\n",
    "    train_loss /= len(train_loader.dataset)\n",
    "    test_loss /= len(test_loader.dataset)\n",
    "\n",
    "    if epoch % 50 == 0:\n",
    "        print(f\"Epoch: {epoch}, Train Loss: {train_loss}, Test Loss: {test_loss}\")\n",
    "\n",
    "        # Save a checkpoint\n",
    "        checkpoint_path = os.path.join(checkpoint_dir, f'checkpoint_{epoch}.pt')\n",
    "        torch.save({\n",
    "            'epoch': epoch,\n",
    "            'model_state_dict': model.state_dict(),\n",
    "            'optimizer_state_dict': optimizer.state_dict(),\n",
    "            'train_loss': train_loss,\n",
    "            'test_loss': test_loss,\n",
    "        }, checkpoint_path)\n",
    "\n",
    "\n",
    "\n"
   ]
  },
  {
   "cell_type": "code",
   "execution_count": 61,
   "metadata": {},
   "outputs": [
    {
     "ename": "TypeError",
     "evalue": "classic_AE_variant3.forward() missing 1 required positional argument: 'edge_index'",
     "output_type": "error",
     "traceback": [
      "\u001b[0;31m---------------------------------------------------------------------------\u001b[0m",
      "\u001b[0;31mTypeError\u001b[0m                                 Traceback (most recent call last)",
      "Cell \u001b[0;32mIn[61], line 5\u001b[0m\n\u001b[1;32m      3\u001b[0m \u001b[39mfor\u001b[39;00m batch \u001b[39min\u001b[39;00m test_loader:\n\u001b[1;32m      4\u001b[0m     data \u001b[39m=\u001b[39m batch\u001b[39m.\u001b[39mto(\u001b[39m'\u001b[39m\u001b[39mcuda\u001b[39m\u001b[39m'\u001b[39m)\n\u001b[0;32m----> 5\u001b[0m     out \u001b[39m=\u001b[39m model1(data)\n",
      "File \u001b[0;32m~/miniconda3/envs/ws-pred/lib/python3.11/site-packages/torch/nn/modules/module.py:1501\u001b[0m, in \u001b[0;36mModule._call_impl\u001b[0;34m(self, *args, **kwargs)\u001b[0m\n\u001b[1;32m   1496\u001b[0m \u001b[39m# If we don't have any hooks, we want to skip the rest of the logic in\u001b[39;00m\n\u001b[1;32m   1497\u001b[0m \u001b[39m# this function, and just call forward.\u001b[39;00m\n\u001b[1;32m   1498\u001b[0m \u001b[39mif\u001b[39;00m \u001b[39mnot\u001b[39;00m (\u001b[39mself\u001b[39m\u001b[39m.\u001b[39m_backward_hooks \u001b[39mor\u001b[39;00m \u001b[39mself\u001b[39m\u001b[39m.\u001b[39m_backward_pre_hooks \u001b[39mor\u001b[39;00m \u001b[39mself\u001b[39m\u001b[39m.\u001b[39m_forward_hooks \u001b[39mor\u001b[39;00m \u001b[39mself\u001b[39m\u001b[39m.\u001b[39m_forward_pre_hooks\n\u001b[1;32m   1499\u001b[0m         \u001b[39mor\u001b[39;00m _global_backward_pre_hooks \u001b[39mor\u001b[39;00m _global_backward_hooks\n\u001b[1;32m   1500\u001b[0m         \u001b[39mor\u001b[39;00m _global_forward_hooks \u001b[39mor\u001b[39;00m _global_forward_pre_hooks):\n\u001b[0;32m-> 1501\u001b[0m     \u001b[39mreturn\u001b[39;00m forward_call(\u001b[39m*\u001b[39;49margs, \u001b[39m*\u001b[39;49m\u001b[39m*\u001b[39;49mkwargs)\n\u001b[1;32m   1502\u001b[0m \u001b[39m# Do not call functions when jit is used\u001b[39;00m\n\u001b[1;32m   1503\u001b[0m full_backward_hooks, non_full_backward_hooks \u001b[39m=\u001b[39m [], []\n",
      "\u001b[0;31mTypeError\u001b[0m: classic_AE_variant3.forward() missing 1 required positional argument: 'edge_index'"
     ]
    }
   ],
   "source": [
    "    model1.eval()\n",
    "    with torch.no_grad():\n",
    "        for batch in test_loader:\n",
    "            data = batch.to('cuda')\n",
    "            out = model1(data)"
   ]
  },
  {
   "cell_type": "code",
   "execution_count": 51,
   "metadata": {},
   "outputs": [
    {
     "name": "stdout",
     "output_type": "stream",
     "text": [
      "Indexes plotted [10  1  0  4  3  9]\n"
     ]
    },
    {
     "ename": "RuntimeError",
     "evalue": "Expected all tensors to be on the same device, but found at least two devices, cuda:0 and cpu! (when checking argument for argument mat1 in method wrapper_CUDA_addmm)",
     "output_type": "error",
     "traceback": [
      "\u001b[0;31m---------------------------------------------------------------------------\u001b[0m",
      "\u001b[0;31mRuntimeError\u001b[0m                              Traceback (most recent call last)",
      "Cell \u001b[0;32mIn[51], line 2\u001b[0m\n\u001b[1;32m      1\u001b[0m filename_to_copy_structure \u001b[39m=\u001b[39m \u001b[39m'\u001b[39m\u001b[39m../../../Datasets/WaveSuite_VTK/sateNo4_1_51.vtu\u001b[39m\u001b[39m'\u001b[39m\n\u001b[0;32m----> 2\u001b[0m plot_model_3D_vtu(model1, wavesuite_object_test, \u001b[39m6\u001b[39;49m, filename_to_copy_structure, \n\u001b[1;32m      3\u001b[0m                       show_edges\u001b[39m=\u001b[39;49m\u001b[39mFalse\u001b[39;49;00m, random\u001b[39m=\u001b[39;49m\u001b[39mTrue\u001b[39;49;00m, is_data_in_loader\u001b[39m=\u001b[39;49m\u001b[39mFalse\u001b[39;49;00m, \n\u001b[1;32m      4\u001b[0m                       save_fig\u001b[39m=\u001b[39;49m\u001b[39mTrue\u001b[39;49;00m, filename\u001b[39m=\u001b[39;49m\u001b[39m'\u001b[39;49m\u001b[39mfinal_model_WaveSuite_50epochs.eps\u001b[39;49m\u001b[39m'\u001b[39;49m)\n",
      "File \u001b[0;32m~/realhome/WaveSuite-Pred/GNN/plot_results_3D_vtu.py:157\u001b[0m, in \u001b[0;36mplot_model_3D_vtu\u001b[0;34m(ae_model, graph_data_list_input, nDisplay, filename_to_copy_structure, device, show_edges, random, index_sequence, is_data_in_loader, batch_size, save_fig, filename)\u001b[0m\n\u001b[1;32m    154\u001b[0m     data_loader \u001b[39m=\u001b[39m DataLoader(graph_data_list_plot, batch_size\u001b[39m=\u001b[39mbatch_size, shuffle\u001b[39m=\u001b[39m\u001b[39mFalse\u001b[39;00m)\n\u001b[1;32m    156\u001b[0m     \u001b[39m# Get the results when you test the model\u001b[39;00m\n\u001b[0;32m--> 157\u001b[0m     y_pred, y_real \u001b[39m=\u001b[39m evaluate_top_AE(ae_model, data_loader, device) \n\u001b[1;32m    159\u001b[0m     indices \u001b[39m=\u001b[39m \u001b[39mrange\u001b[39m(nDisplay)\n\u001b[1;32m    161\u001b[0m \u001b[39m# NOW DO THE PLOTTING \u001b[39;00m\n\u001b[1;32m    162\u001b[0m \n\u001b[1;32m    163\u001b[0m \u001b[39m# Read one file with the fixed structure \u001b[39;00m\n",
      "File \u001b[0;32m~/realhome/WaveSuite-Pred/GNN/train_top_AE.py:242\u001b[0m, in \u001b[0;36mevaluate_top_AE\u001b[0;34m(ae_model, data_loader, device)\u001b[0m\n\u001b[1;32m    240\u001b[0m \u001b[39m## Compute the current output values of the model\u001b[39;00m\n\u001b[1;32m    241\u001b[0m batch_test \u001b[39m=\u001b[39m batch\u001b[39m.\u001b[39mx\u001b[39m.\u001b[39mfloat()\n\u001b[0;32m--> 242\u001b[0m temp_test_decoded \u001b[39m=\u001b[39m ae_model(batch_test, batch\u001b[39m.\u001b[39;49medge_index) \n\u001b[1;32m    244\u001b[0m \u001b[39m#Identify y and y_pred\u001b[39;00m\n\u001b[1;32m    245\u001b[0m y \u001b[39m=\u001b[39m batch_test\n",
      "File \u001b[0;32m~/miniconda3/envs/ws-pred/lib/python3.11/site-packages/torch/nn/modules/module.py:1501\u001b[0m, in \u001b[0;36mModule._call_impl\u001b[0;34m(self, *args, **kwargs)\u001b[0m\n\u001b[1;32m   1496\u001b[0m \u001b[39m# If we don't have any hooks, we want to skip the rest of the logic in\u001b[39;00m\n\u001b[1;32m   1497\u001b[0m \u001b[39m# this function, and just call forward.\u001b[39;00m\n\u001b[1;32m   1498\u001b[0m \u001b[39mif\u001b[39;00m \u001b[39mnot\u001b[39;00m (\u001b[39mself\u001b[39m\u001b[39m.\u001b[39m_backward_hooks \u001b[39mor\u001b[39;00m \u001b[39mself\u001b[39m\u001b[39m.\u001b[39m_backward_pre_hooks \u001b[39mor\u001b[39;00m \u001b[39mself\u001b[39m\u001b[39m.\u001b[39m_forward_hooks \u001b[39mor\u001b[39;00m \u001b[39mself\u001b[39m\u001b[39m.\u001b[39m_forward_pre_hooks\n\u001b[1;32m   1499\u001b[0m         \u001b[39mor\u001b[39;00m _global_backward_pre_hooks \u001b[39mor\u001b[39;00m _global_backward_hooks\n\u001b[1;32m   1500\u001b[0m         \u001b[39mor\u001b[39;00m _global_forward_hooks \u001b[39mor\u001b[39;00m _global_forward_pre_hooks):\n\u001b[0;32m-> 1501\u001b[0m     \u001b[39mreturn\u001b[39;00m forward_call(\u001b[39m*\u001b[39;49margs, \u001b[39m*\u001b[39;49m\u001b[39m*\u001b[39;49mkwargs)\n\u001b[1;32m   1502\u001b[0m \u001b[39m# Do not call functions when jit is used\u001b[39;00m\n\u001b[1;32m   1503\u001b[0m full_backward_hooks, non_full_backward_hooks \u001b[39m=\u001b[39m [], []\n",
      "File \u001b[0;32m~/realhome/WaveSuite-Pred/GNN/AE_top_models.py:102\u001b[0m, in \u001b[0;36mclassic_AE_variant3.forward\u001b[0;34m(self, x, edge_index)\u001b[0m\n\u001b[1;32m     99\u001b[0m \u001b[39mdef\u001b[39;00m \u001b[39mforward\u001b[39m(\u001b[39mself\u001b[39m, x, edge_index):  \n\u001b[1;32m    100\u001b[0m     \n\u001b[1;32m    101\u001b[0m     \u001b[39m#AE\u001b[39;00m\n\u001b[0;32m--> 102\u001b[0m     x \u001b[39m=\u001b[39m \u001b[39mself\u001b[39;49m\u001b[39m.\u001b[39;49mencoder(x, edge_index)\n\u001b[1;32m    103\u001b[0m     x \u001b[39m=\u001b[39m \u001b[39mself\u001b[39m\u001b[39m.\u001b[39mdecoder(x, edge_index)\n\u001b[1;32m    105\u001b[0m     \u001b[39mreturn\u001b[39;00m x\n",
      "File \u001b[0;32m~/miniconda3/envs/ws-pred/lib/python3.11/site-packages/torch/nn/modules/module.py:1501\u001b[0m, in \u001b[0;36mModule._call_impl\u001b[0;34m(self, *args, **kwargs)\u001b[0m\n\u001b[1;32m   1496\u001b[0m \u001b[39m# If we don't have any hooks, we want to skip the rest of the logic in\u001b[39;00m\n\u001b[1;32m   1497\u001b[0m \u001b[39m# this function, and just call forward.\u001b[39;00m\n\u001b[1;32m   1498\u001b[0m \u001b[39mif\u001b[39;00m \u001b[39mnot\u001b[39;00m (\u001b[39mself\u001b[39m\u001b[39m.\u001b[39m_backward_hooks \u001b[39mor\u001b[39;00m \u001b[39mself\u001b[39m\u001b[39m.\u001b[39m_backward_pre_hooks \u001b[39mor\u001b[39;00m \u001b[39mself\u001b[39m\u001b[39m.\u001b[39m_forward_hooks \u001b[39mor\u001b[39;00m \u001b[39mself\u001b[39m\u001b[39m.\u001b[39m_forward_pre_hooks\n\u001b[1;32m   1499\u001b[0m         \u001b[39mor\u001b[39;00m _global_backward_pre_hooks \u001b[39mor\u001b[39;00m _global_backward_hooks\n\u001b[1;32m   1500\u001b[0m         \u001b[39mor\u001b[39;00m _global_forward_hooks \u001b[39mor\u001b[39;00m _global_forward_pre_hooks):\n\u001b[0;32m-> 1501\u001b[0m     \u001b[39mreturn\u001b[39;00m forward_call(\u001b[39m*\u001b[39;49margs, \u001b[39m*\u001b[39;49m\u001b[39m*\u001b[39;49mkwargs)\n\u001b[1;32m   1502\u001b[0m \u001b[39m# Do not call functions when jit is used\u001b[39;00m\n\u001b[1;32m   1503\u001b[0m full_backward_hooks, non_full_backward_hooks \u001b[39m=\u001b[39m [], []\n",
      "File \u001b[0;32m/tmp/caq13_pyg/tmpkrg7ngo7.py:19\u001b[0m, in \u001b[0;36mSequential_a31290.forward\u001b[0;34m(self, x, edge_index)\u001b[0m\n\u001b[1;32m     17\u001b[0m \u001b[39m\u001b[39m\u001b[39m\"\"\"\"\"\"\u001b[39;00m\n\u001b[1;32m     18\u001b[0m x \u001b[39m=\u001b[39m \u001b[39mself\u001b[39m\u001b[39m.\u001b[39mmodule_0(x)\n\u001b[0;32m---> 19\u001b[0m x \u001b[39m=\u001b[39m \u001b[39mself\u001b[39;49m\u001b[39m.\u001b[39;49mmodule_1(x)\n\u001b[1;32m     20\u001b[0m x \u001b[39m=\u001b[39m \u001b[39mself\u001b[39m\u001b[39m.\u001b[39mmodule_2(x)\n\u001b[1;32m     21\u001b[0m x \u001b[39m=\u001b[39m \u001b[39mself\u001b[39m\u001b[39m.\u001b[39mmodule_3(x)\n",
      "File \u001b[0;32m~/miniconda3/envs/ws-pred/lib/python3.11/site-packages/torch/nn/modules/module.py:1501\u001b[0m, in \u001b[0;36mModule._call_impl\u001b[0;34m(self, *args, **kwargs)\u001b[0m\n\u001b[1;32m   1496\u001b[0m \u001b[39m# If we don't have any hooks, we want to skip the rest of the logic in\u001b[39;00m\n\u001b[1;32m   1497\u001b[0m \u001b[39m# this function, and just call forward.\u001b[39;00m\n\u001b[1;32m   1498\u001b[0m \u001b[39mif\u001b[39;00m \u001b[39mnot\u001b[39;00m (\u001b[39mself\u001b[39m\u001b[39m.\u001b[39m_backward_hooks \u001b[39mor\u001b[39;00m \u001b[39mself\u001b[39m\u001b[39m.\u001b[39m_backward_pre_hooks \u001b[39mor\u001b[39;00m \u001b[39mself\u001b[39m\u001b[39m.\u001b[39m_forward_hooks \u001b[39mor\u001b[39;00m \u001b[39mself\u001b[39m\u001b[39m.\u001b[39m_forward_pre_hooks\n\u001b[1;32m   1499\u001b[0m         \u001b[39mor\u001b[39;00m _global_backward_pre_hooks \u001b[39mor\u001b[39;00m _global_backward_hooks\n\u001b[1;32m   1500\u001b[0m         \u001b[39mor\u001b[39;00m _global_forward_hooks \u001b[39mor\u001b[39;00m _global_forward_pre_hooks):\n\u001b[0;32m-> 1501\u001b[0m     \u001b[39mreturn\u001b[39;00m forward_call(\u001b[39m*\u001b[39;49margs, \u001b[39m*\u001b[39;49m\u001b[39m*\u001b[39;49mkwargs)\n\u001b[1;32m   1502\u001b[0m \u001b[39m# Do not call functions when jit is used\u001b[39;00m\n\u001b[1;32m   1503\u001b[0m full_backward_hooks, non_full_backward_hooks \u001b[39m=\u001b[39m [], []\n",
      "File \u001b[0;32m~/miniconda3/envs/ws-pred/lib/python3.11/site-packages/torch/nn/modules/linear.py:114\u001b[0m, in \u001b[0;36mLinear.forward\u001b[0;34m(self, input)\u001b[0m\n\u001b[1;32m    113\u001b[0m \u001b[39mdef\u001b[39;00m \u001b[39mforward\u001b[39m(\u001b[39mself\u001b[39m, \u001b[39minput\u001b[39m: Tensor) \u001b[39m-\u001b[39m\u001b[39m>\u001b[39m Tensor:\n\u001b[0;32m--> 114\u001b[0m     \u001b[39mreturn\u001b[39;00m F\u001b[39m.\u001b[39;49mlinear(\u001b[39minput\u001b[39;49m, \u001b[39mself\u001b[39;49m\u001b[39m.\u001b[39;49mweight, \u001b[39mself\u001b[39;49m\u001b[39m.\u001b[39;49mbias)\n",
      "\u001b[0;31mRuntimeError\u001b[0m: Expected all tensors to be on the same device, but found at least two devices, cuda:0 and cpu! (when checking argument for argument mat1 in method wrapper_CUDA_addmm)"
     ]
    }
   ],
   "source": [
    "filename_to_copy_structure = '../../../Datasets/WaveSuite_VTK/sateNo4_1_51.vtu'\n",
    "plot_model_3D_vtu(model1, wavesuite_object_test, 6, filename_to_copy_structure, \n",
    "                      show_edges=False, random=True, is_data_in_loader=False, \n",
    "                      save_fig=True, filename='final_model_WaveSuite_50epochs.eps')"
   ]
  }
 ],
 "metadata": {
  "kernelspec": {
   "display_name": "ws-pred",
   "language": "python",
   "name": "python3"
  },
  "language_info": {
   "codemirror_mode": {
    "name": "ipython",
    "version": 3
   },
   "file_extension": ".py",
   "mimetype": "text/x-python",
   "name": "python",
   "nbconvert_exporter": "python",
   "pygments_lexer": "ipython3",
   "version": "3.11.3"
  },
  "orig_nbformat": 4
 },
 "nbformat": 4,
 "nbformat_minor": 2
}
