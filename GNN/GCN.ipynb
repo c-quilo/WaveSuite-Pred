{
 "cells": [
  {
   "cell_type": "code",
   "execution_count": 10,
   "metadata": {},
   "outputs": [
    {
     "name": "stdout",
     "output_type": "stream",
     "text": [
      "cuda\n"
     ]
    }
   ],
   "source": [
    "import numpy as np\n",
    "import torch\n",
    "import os\n",
    "import matplotlib.pyplot as plt\n",
    "\n",
    "from torch_geometric.data import Data\n",
    "from torch_geometric.nn import GCNConv, SAGEConv, GCN\n",
    "from scipy.sparse import coo_matrix\n",
    "from scipy.sparse import load_npz\n",
    "import torch.nn.functional as F\n",
    "import torch.optim as optim\n",
    "import torch.nn as nn\n",
    "from sklearn.model_selection import train_test_split\n",
    "from sklearn.preprocessing import MinMaxScaler\n",
    "from torch_geometric.loader import DataLoader\n",
    "from sklearn.preprocessing import MinMaxScaler\n",
    "\n",
    "device = torch.device('cuda' if torch.cuda.is_available() else 'cpu')\n",
    "print(device)\n",
    "\n",
    "# Scale input and output data\n",
    "scaler_input = MinMaxScaler()\n",
    "scaler_output = MinMaxScaler()\n",
    "\n",
    "class Net(nn.Module):\n",
    "    def __init__(self, num_node_features, num_output_features, dropout_rate=0.5):\n",
    "        super(Net, self).__init__()\n",
    "        self.conv1 = GCN(num_node_features, 64)\n",
    "        self.conv2 = GCN(64, 64)\n",
    "        self.conv3 = GCN(64, num_output_features)\n",
    "        self.bn1 = nn.BatchNorm1d(64)\n",
    "        self.bn2 = nn.BatchNorm1d(64)\n",
    "        self.bn3 = nn.BatchNorm1d(num_output_features)\n",
    "        self.dropout = nn.Dropout(dropout_rate)\n",
    "\n",
    "    def forward(self, data):\n",
    "        x, edge_index = data.x, data.edge_index\n",
    "\n",
    "        x1 = self.conv1(x, edge_index)\n",
    "        x1 = F.leaky_relu(x1)\n",
    "        x1 = self.bn1(x1)\n",
    "        x1 = self.dropout(x1)\n",
    "\n",
    "        x2 = self.conv2(x1, edge_index)\n",
    "        x2 = F.leaky_relu(x2)\n",
    "        x2 = self.bn2(x2)\n",
    "        x2 = self.dropout(x2)\n",
    "\n",
    "        x3 = self.conv3(x2, edge_index)\n",
    "        x3 = F.leaky_relu(x3)\n",
    "        x3 = self.bn3(x3)\n",
    "        x3 = self.dropout(x3)\n",
    "\n",
    "        return x3\n",
    "\n",
    "\n",
    "# Load your input and output data\n",
    "input_data = np.load('../../WaveSuite/regularWave_U_data_0_to_131.npy')\n",
    "output_data = np.load('../../WaveSuite/regularWave_nut_data_0_to_131.npy')\n",
    "output_data = np.expand_dims(output_data, 2)\n",
    "#Load adjacency matrix\n",
    "adjacency_matrix = load_npz('../preprocessing/sparse_adjacency_matrix.npz')\n",
    "# adjacency_matrix = torch.load('../preprocessing/wave_complete_edge_list.pt')\n",
    "# edge_index = adjacency_matrix.long()"
   ]
  },
  {
   "cell_type": "code",
   "execution_count": 11,
   "metadata": {},
   "outputs": [
    {
     "name": "stdout",
     "output_type": "stream",
     "text": [
      "(311203, 3)\n"
     ]
    }
   ],
   "source": [
    "def scaler(x, xmin, xmax, min, max):\n",
    "    x, xmin, xmax = np.array(x), np.array(xmin), np.array(xmax)\n",
    "\n",
    "    # Identify where xmin equals xmax\n",
    "    equal_mask = np.equal(xmin, xmax)\n",
    "\n",
    "    # Calculate scale where xmin does not equal xmax\n",
    "    scale = np.divide((max - min), (xmax - xmin), where=~equal_mask)\n",
    "\n",
    "    # Apply the scaling formula where xmin does not equal xmax\n",
    "    x_scaled = np.where(equal_mask, min, scale * (x - xmin) + min)\n",
    "\n",
    "    return x_scaled\n",
    "\n",
    "input_data = np.log(input_data + 1)\n",
    "output_data = np.log(output_data + 1)\n",
    "\n",
    "min_input = np.min(input_data, 0)\n",
    "max_input = np.max(input_data, 0)\n",
    "min_output = np.min(output_data, 0)\n",
    "max_output = np.max(output_data, 0)\n",
    "minimum = 0\n",
    "maximum = 1\n",
    "\n",
    "mean_input = np.nanmean(input_data, 0)\n",
    "print(mean_input.shape)\n",
    "std_input = np.nanstd(input_data)\n",
    "mean_output = np.nanmean(output_data, 0)\n",
    "std_output = np.nanstd(output_data)\n",
    "\n",
    "scaled_input_data = (input_data - mean_input)/std_input\n",
    "scaled_output_data = (output_data - mean_output)/std_output\n",
    "# scaled_input_data = scaler(input_data, min_input, max_input, minimum, maximum)\n",
    "# scaled_output_data = scaler(output_data, min_output, max_output, minimum, maximum)\n",
    "\n",
    "# Prepare edge_index\n",
    "rows, cols = adjacency_matrix.nonzero()\n",
    "rows_torch = torch.tensor(rows, dtype=torch.long)\n",
    "cols_torch = torch.tensor(cols, dtype=torch.long)\n",
    "edge_index = torch.stack([rows_torch, cols_torch], dim=0)\n",
    "\n",
    "# Define the dataset as a list of Data objects\n",
    "all_data = []\n",
    "for i in range(input_data.shape[0]):\n",
    "    x = torch.tensor(scaled_input_data[i, :, :], dtype=torch.float).to(device)\n",
    "    y = torch.tensor(scaled_output_data[i, :, :], dtype=torch.float).to(device)\n",
    "    data = Data(x=x, y=y, edge_index=edge_index)\n",
    "    all_data.append(data)\n",
    "\n",
    "# Now we split our dataset into training and testing sets\n",
    "train_data, test_data = train_test_split(all_data, test_size=0.2, random_state=42)\n",
    "\n",
    "# Creating DataLoaders for your train and test sets\n",
    "train_loader = DataLoader(train_data, batch_size=32, shuffle=True)\n",
    "test_loader = DataLoader(test_data, batch_size=32)\n"
   ]
  },
  {
   "cell_type": "code",
   "execution_count": 12,
   "metadata": {},
   "outputs": [
    {
     "ename": "TypeError",
     "evalue": "BasicGNN.__init__() missing 1 required positional argument: 'num_layers'",
     "output_type": "error",
     "traceback": [
      "\u001b[0;31m---------------------------------------------------------------------------\u001b[0m",
      "\u001b[0;31mTypeError\u001b[0m                                 Traceback (most recent call last)",
      "Cell \u001b[0;32mIn[12], line 6\u001b[0m\n\u001b[1;32m      3\u001b[0m os\u001b[39m.\u001b[39mmakedirs(checkpoint_dir, exist_ok\u001b[39m=\u001b[39m\u001b[39mTrue\u001b[39;00m)\n\u001b[1;32m      5\u001b[0m \u001b[39m# Model\u001b[39;00m\n\u001b[0;32m----> 6\u001b[0m model \u001b[39m=\u001b[39m Net(\n\u001b[1;32m      7\u001b[0m     num_node_features\u001b[39m=\u001b[39;49minput_data\u001b[39m.\u001b[39;49mshape[\u001b[39m2\u001b[39;49m],\n\u001b[1;32m      8\u001b[0m     num_output_features\u001b[39m=\u001b[39;49moutput_data\u001b[39m.\u001b[39;49mshape[\u001b[39m2\u001b[39;49m]\n\u001b[1;32m      9\u001b[0m     )\u001b[39m.\u001b[39mto(device)\n\u001b[1;32m     11\u001b[0m \u001b[39mprint\u001b[39m(output_data\u001b[39m.\u001b[39mshape[\u001b[39m2\u001b[39m])\n",
      "Cell \u001b[0;32mIn[10], line 28\u001b[0m, in \u001b[0;36mNet.__init__\u001b[0;34m(self, num_node_features, num_output_features, dropout_rate)\u001b[0m\n\u001b[1;32m     26\u001b[0m \u001b[39mdef\u001b[39;00m \u001b[39m__init__\u001b[39m(\u001b[39mself\u001b[39m, num_node_features, num_output_features, dropout_rate\u001b[39m=\u001b[39m\u001b[39m0.5\u001b[39m):\n\u001b[1;32m     27\u001b[0m     \u001b[39msuper\u001b[39m(Net, \u001b[39mself\u001b[39m)\u001b[39m.\u001b[39m\u001b[39m__init__\u001b[39m()\n\u001b[0;32m---> 28\u001b[0m     \u001b[39mself\u001b[39m\u001b[39m.\u001b[39mconv1 \u001b[39m=\u001b[39m GCN(num_node_features, \u001b[39m64\u001b[39;49m)\n\u001b[1;32m     29\u001b[0m     \u001b[39mself\u001b[39m\u001b[39m.\u001b[39mconv2 \u001b[39m=\u001b[39m GCN(\u001b[39m64\u001b[39m, \u001b[39m64\u001b[39m)\n\u001b[1;32m     30\u001b[0m     \u001b[39mself\u001b[39m\u001b[39m.\u001b[39mconv3 \u001b[39m=\u001b[39m GCN(\u001b[39m64\u001b[39m, num_output_features)\n",
      "\u001b[0;31mTypeError\u001b[0m: BasicGNN.__init__() missing 1 required positional argument: 'num_layers'"
     ]
    }
   ],
   "source": [
    "# Directory to save checkpoints\n",
    "checkpoint_dir = './checkpoints'\n",
    "os.makedirs(checkpoint_dir, exist_ok=True)\n",
    "\n",
    "# Model\n",
    "model = Net(\n",
    "    num_node_features=input_data.shape[2],\n",
    "    num_output_features=output_data.shape[2]\n",
    "    ).to(device)\n",
    "\n",
    "print(output_data.shape[2])"
   ]
  },
  {
   "cell_type": "code",
   "execution_count": 4,
   "metadata": {},
   "outputs": [
    {
     "name": "stdout",
     "output_type": "stream",
     "text": [
      "Epoch: 0, Train Loss: 2.1513624558081994, Test Loss: 0.19803835451602936\n",
      "Epoch: 100, Train Loss: 1.904561813061054, Test Loss: 0.7749332785606384\n",
      "Epoch: 200, Train Loss: 1.7574483889799852, Test Loss: 0.8055179119110107\n",
      "Epoch: 300, Train Loss: 1.6238923256213849, Test Loss: 0.7683523297309875\n",
      "Epoch: 400, Train Loss: 1.5006587597040029, Test Loss: 0.732743501663208\n",
      "Epoch: 500, Train Loss: 1.3789992057360136, Test Loss: 0.694716215133667\n",
      "Epoch: 600, Train Loss: 1.262972776706402, Test Loss: 0.6598792672157288\n",
      "Epoch: 700, Train Loss: 1.1616897949805627, Test Loss: 0.6027335524559021\n",
      "Epoch: 800, Train Loss: 1.0640461536554189, Test Loss: 0.5564873814582825\n",
      "Epoch: 900, Train Loss: 0.9751280087691087, Test Loss: 0.5122822523117065\n",
      "Epoch: 1000, Train Loss: 0.8858764721797063, Test Loss: 0.46699875593185425\n",
      "Epoch: 1100, Train Loss: 0.8079276405847989, Test Loss: 0.43918123841285706\n",
      "Epoch: 1200, Train Loss: 0.7330529919037452, Test Loss: 0.40088844299316406\n",
      "Epoch: 1300, Train Loss: 0.6634745827087989, Test Loss: 0.37465497851371765\n",
      "Epoch: 1400, Train Loss: 0.6018036007881165, Test Loss: 0.3452386260032654\n",
      "Epoch: 1500, Train Loss: 0.5430003588016217, Test Loss: 0.3105352520942688\n",
      "Epoch: 1600, Train Loss: 0.4904819612319653, Test Loss: 0.2864128053188324\n",
      "Epoch: 1700, Train Loss: 0.44262017424289996, Test Loss: 0.2638798654079437\n",
      "Epoch: 1800, Train Loss: 0.4000462362399468, Test Loss: 0.24349257349967957\n",
      "Epoch: 1900, Train Loss: 0.36196847374622637, Test Loss: 0.2266988605260849\n",
      "Epoch: 2000, Train Loss: 0.32820813701703, Test Loss: 0.2075885385274887\n",
      "Epoch: 2100, Train Loss: 0.3002700691039746, Test Loss: 0.1960965245962143\n",
      "Epoch: 2200, Train Loss: 0.2757428609407865, Test Loss: 0.18627703189849854\n",
      "Epoch: 2300, Train Loss: 0.2546843003768187, Test Loss: 0.175401970744133\n",
      "Epoch: 2400, Train Loss: 0.2370500644812217, Test Loss: 0.16780120134353638\n",
      "Epoch: 2500, Train Loss: 0.22525094334895795, Test Loss: 0.16295956075191498\n",
      "Epoch: 2600, Train Loss: 0.21535045137772194, Test Loss: 0.15877851843833923\n",
      "Epoch: 2700, Train Loss: 0.2067991357583266, Test Loss: 0.15644414722919464\n",
      "Epoch: 2800, Train Loss: 0.2020999789237976, Test Loss: 0.1548713743686676\n",
      "Epoch: 2900, Train Loss: 0.19880299327465203, Test Loss: 0.15405873954296112\n",
      "Epoch: 3000, Train Loss: 0.19676410464140084, Test Loss: 0.15398167073726654\n",
      "Epoch: 3100, Train Loss: 0.1961049666771522, Test Loss: 0.1542637199163437\n",
      "Epoch: 3200, Train Loss: 0.1955226665505996, Test Loss: 0.15453417599201202\n",
      "Epoch: 3300, Train Loss: 0.19512195770557111, Test Loss: 0.15480954945087433\n",
      "Epoch: 3400, Train Loss: 0.19505992646400744, Test Loss: 0.15496309101581573\n",
      "Epoch: 3500, Train Loss: 0.19522177714567918, Test Loss: 0.1549813151359558\n",
      "Epoch: 3600, Train Loss: 0.19509067214452303, Test Loss: 0.15515874326229095\n",
      "Epoch: 3700, Train Loss: 0.19525415622271025, Test Loss: 0.1551118642091751\n",
      "Epoch: 3800, Train Loss: 0.195044688307322, Test Loss: 0.15516456961631775\n",
      "Epoch: 3900, Train Loss: 0.19513506155747634, Test Loss: 0.15490926802158356\n",
      "Epoch: 4000, Train Loss: 0.1949796206676043, Test Loss: 0.1549779325723648\n",
      "Epoch: 4100, Train Loss: 0.19517816030062163, Test Loss: 0.1548335999250412\n",
      "Epoch: 4200, Train Loss: 0.1950806207381762, Test Loss: 0.1548554003238678\n",
      "Epoch: 4300, Train Loss: 0.19487090981923616, Test Loss: 0.15490615367889404\n",
      "Epoch: 4400, Train Loss: 0.1950911684678151, Test Loss: 0.1547200232744217\n"
     ]
    },
    {
     "ename": "KeyboardInterrupt",
     "evalue": "",
     "output_type": "error",
     "traceback": [
      "\u001b[0;31m---------------------------------------------------------------------------\u001b[0m",
      "\u001b[0;31mKeyboardInterrupt\u001b[0m                         Traceback (most recent call last)",
      "Cell \u001b[0;32mIn[4], line 15\u001b[0m\n\u001b[1;32m     13\u001b[0m data \u001b[39m=\u001b[39m batch\u001b[39m.\u001b[39mto(device)\n\u001b[1;32m     14\u001b[0m optimizer\u001b[39m.\u001b[39mzero_grad()\n\u001b[0;32m---> 15\u001b[0m out \u001b[39m=\u001b[39m model(data)\n\u001b[1;32m     17\u001b[0m loss \u001b[39m=\u001b[39m F\u001b[39m.\u001b[39mmse_loss(out, data\u001b[39m.\u001b[39my)  \u001b[39m# MSE loss for regression\u001b[39;00m\n\u001b[1;32m     18\u001b[0m loss\u001b[39m.\u001b[39mbackward()\n",
      "File \u001b[0;32m~/miniconda3/envs/ws-pred/lib/python3.11/site-packages/torch/nn/modules/module.py:1501\u001b[0m, in \u001b[0;36mModule._call_impl\u001b[0;34m(self, *args, **kwargs)\u001b[0m\n\u001b[1;32m   1496\u001b[0m \u001b[39m# If we don't have any hooks, we want to skip the rest of the logic in\u001b[39;00m\n\u001b[1;32m   1497\u001b[0m \u001b[39m# this function, and just call forward.\u001b[39;00m\n\u001b[1;32m   1498\u001b[0m \u001b[39mif\u001b[39;00m \u001b[39mnot\u001b[39;00m (\u001b[39mself\u001b[39m\u001b[39m.\u001b[39m_backward_hooks \u001b[39mor\u001b[39;00m \u001b[39mself\u001b[39m\u001b[39m.\u001b[39m_backward_pre_hooks \u001b[39mor\u001b[39;00m \u001b[39mself\u001b[39m\u001b[39m.\u001b[39m_forward_hooks \u001b[39mor\u001b[39;00m \u001b[39mself\u001b[39m\u001b[39m.\u001b[39m_forward_pre_hooks\n\u001b[1;32m   1499\u001b[0m         \u001b[39mor\u001b[39;00m _global_backward_pre_hooks \u001b[39mor\u001b[39;00m _global_backward_hooks\n\u001b[1;32m   1500\u001b[0m         \u001b[39mor\u001b[39;00m _global_forward_hooks \u001b[39mor\u001b[39;00m _global_forward_pre_hooks):\n\u001b[0;32m-> 1501\u001b[0m     \u001b[39mreturn\u001b[39;00m forward_call(\u001b[39m*\u001b[39;49margs, \u001b[39m*\u001b[39;49m\u001b[39m*\u001b[39;49mkwargs)\n\u001b[1;32m   1502\u001b[0m \u001b[39m# Do not call functions when jit is used\u001b[39;00m\n\u001b[1;32m   1503\u001b[0m full_backward_hooks, non_full_backward_hooks \u001b[39m=\u001b[39m [], []\n",
      "Cell \u001b[0;32mIn[1], line 44\u001b[0m, in \u001b[0;36mNet.forward\u001b[0;34m(self, data)\u001b[0m\n\u001b[1;32m     41\u001b[0m x1 \u001b[39m=\u001b[39m \u001b[39mself\u001b[39m\u001b[39m.\u001b[39mbn1(x1)\n\u001b[1;32m     42\u001b[0m x1 \u001b[39m=\u001b[39m \u001b[39mself\u001b[39m\u001b[39m.\u001b[39mdropout(x1)\n\u001b[0;32m---> 44\u001b[0m x2 \u001b[39m=\u001b[39m \u001b[39mself\u001b[39;49m\u001b[39m.\u001b[39;49mconv2(x1, edge_index)\n\u001b[1;32m     45\u001b[0m x2 \u001b[39m=\u001b[39m F\u001b[39m.\u001b[39mleaky_relu(x2)\n\u001b[1;32m     46\u001b[0m x2 \u001b[39m=\u001b[39m \u001b[39mself\u001b[39m\u001b[39m.\u001b[39mbn2(x2)\n",
      "File \u001b[0;32m~/miniconda3/envs/ws-pred/lib/python3.11/site-packages/torch/nn/modules/module.py:1501\u001b[0m, in \u001b[0;36mModule._call_impl\u001b[0;34m(self, *args, **kwargs)\u001b[0m\n\u001b[1;32m   1496\u001b[0m \u001b[39m# If we don't have any hooks, we want to skip the rest of the logic in\u001b[39;00m\n\u001b[1;32m   1497\u001b[0m \u001b[39m# this function, and just call forward.\u001b[39;00m\n\u001b[1;32m   1498\u001b[0m \u001b[39mif\u001b[39;00m \u001b[39mnot\u001b[39;00m (\u001b[39mself\u001b[39m\u001b[39m.\u001b[39m_backward_hooks \u001b[39mor\u001b[39;00m \u001b[39mself\u001b[39m\u001b[39m.\u001b[39m_backward_pre_hooks \u001b[39mor\u001b[39;00m \u001b[39mself\u001b[39m\u001b[39m.\u001b[39m_forward_hooks \u001b[39mor\u001b[39;00m \u001b[39mself\u001b[39m\u001b[39m.\u001b[39m_forward_pre_hooks\n\u001b[1;32m   1499\u001b[0m         \u001b[39mor\u001b[39;00m _global_backward_pre_hooks \u001b[39mor\u001b[39;00m _global_backward_hooks\n\u001b[1;32m   1500\u001b[0m         \u001b[39mor\u001b[39;00m _global_forward_hooks \u001b[39mor\u001b[39;00m _global_forward_pre_hooks):\n\u001b[0;32m-> 1501\u001b[0m     \u001b[39mreturn\u001b[39;00m forward_call(\u001b[39m*\u001b[39;49margs, \u001b[39m*\u001b[39;49m\u001b[39m*\u001b[39;49mkwargs)\n\u001b[1;32m   1502\u001b[0m \u001b[39m# Do not call functions when jit is used\u001b[39;00m\n\u001b[1;32m   1503\u001b[0m full_backward_hooks, non_full_backward_hooks \u001b[39m=\u001b[39m [], []\n",
      "File \u001b[0;32m~/miniconda3/envs/ws-pred/lib/python3.11/site-packages/torch_geometric/nn/conv/gcn_conv.py:210\u001b[0m, in \u001b[0;36mGCNConv.forward\u001b[0;34m(self, x, edge_index, edge_weight)\u001b[0m\n\u001b[1;32m    208\u001b[0m cache \u001b[39m=\u001b[39m \u001b[39mself\u001b[39m\u001b[39m.\u001b[39m_cached_edge_index\n\u001b[1;32m    209\u001b[0m \u001b[39mif\u001b[39;00m cache \u001b[39mis\u001b[39;00m \u001b[39mNone\u001b[39;00m:\n\u001b[0;32m--> 210\u001b[0m     edge_index, edge_weight \u001b[39m=\u001b[39m gcn_norm(  \u001b[39m# yapf: disable\u001b[39;49;00m\n\u001b[1;32m    211\u001b[0m         edge_index, edge_weight, x\u001b[39m.\u001b[39;49msize(\u001b[39mself\u001b[39;49m\u001b[39m.\u001b[39;49mnode_dim),\n\u001b[1;32m    212\u001b[0m         \u001b[39mself\u001b[39;49m\u001b[39m.\u001b[39;49mimproved, \u001b[39mself\u001b[39;49m\u001b[39m.\u001b[39;49madd_self_loops, \u001b[39mself\u001b[39;49m\u001b[39m.\u001b[39;49mflow, x\u001b[39m.\u001b[39;49mdtype)\n\u001b[1;32m    213\u001b[0m     \u001b[39mif\u001b[39;00m \u001b[39mself\u001b[39m\u001b[39m.\u001b[39mcached:\n\u001b[1;32m    214\u001b[0m         \u001b[39mself\u001b[39m\u001b[39m.\u001b[39m_cached_edge_index \u001b[39m=\u001b[39m (edge_index, edge_weight)\n",
      "File \u001b[0;32m~/miniconda3/envs/ws-pred/lib/python3.11/site-packages/torch_geometric/nn/conv/gcn_conv.py:91\u001b[0m, in \u001b[0;36mgcn_norm\u001b[0;34m(edge_index, edge_weight, num_nodes, improved, add_self_loops, flow, dtype)\u001b[0m\n\u001b[1;32m     88\u001b[0m num_nodes \u001b[39m=\u001b[39m maybe_num_nodes(edge_index, num_nodes)\n\u001b[1;32m     90\u001b[0m \u001b[39mif\u001b[39;00m add_self_loops:\n\u001b[0;32m---> 91\u001b[0m     edge_index, edge_weight \u001b[39m=\u001b[39m add_remaining_self_loops(\n\u001b[1;32m     92\u001b[0m         edge_index, edge_weight, fill_value, num_nodes)\n\u001b[1;32m     94\u001b[0m \u001b[39mif\u001b[39;00m edge_weight \u001b[39mis\u001b[39;00m \u001b[39mNone\u001b[39;00m:\n\u001b[1;32m     95\u001b[0m     edge_weight \u001b[39m=\u001b[39m torch\u001b[39m.\u001b[39mones((edge_index\u001b[39m.\u001b[39msize(\u001b[39m1\u001b[39m), ), dtype\u001b[39m=\u001b[39mdtype,\n\u001b[1;32m     96\u001b[0m                              device\u001b[39m=\u001b[39medge_index\u001b[39m.\u001b[39mdevice)\n",
      "File \u001b[0;32m~/miniconda3/envs/ws-pred/lib/python3.11/site-packages/torch_geometric/utils/loop.py:370\u001b[0m, in \u001b[0;36madd_remaining_self_loops\u001b[0;34m(edge_index, edge_attr, fill_value, num_nodes)\u001b[0m\n\u001b[1;32m    366\u001b[0m     loop_attr[edge_index[\u001b[39m0\u001b[39m][inv_mask]] \u001b[39m=\u001b[39m edge_attr[inv_mask]\n\u001b[1;32m    368\u001b[0m     edge_attr \u001b[39m=\u001b[39m torch\u001b[39m.\u001b[39mcat([edge_attr[mask], loop_attr], dim\u001b[39m=\u001b[39m\u001b[39m0\u001b[39m)\n\u001b[0;32m--> 370\u001b[0m edge_index \u001b[39m=\u001b[39m torch\u001b[39m.\u001b[39;49mcat([edge_index[:, mask], loop_index], dim\u001b[39m=\u001b[39;49m\u001b[39m1\u001b[39;49m)\n\u001b[1;32m    371\u001b[0m \u001b[39mreturn\u001b[39;00m edge_index, edge_attr\n",
      "\u001b[0;31mKeyboardInterrupt\u001b[0m: "
     ]
    }
   ],
   "source": [
    "optimizer = optim.Adam(model.parameters(), lr=0.0001)\n",
    "\n",
    "# Training loop\n",
    "# Training loop\n",
    "model.train()\n",
    "for epoch in range(5000):\n",
    "    train_loss = 0.0\n",
    "    test_loss = 0.0\n",
    "\n",
    "    # Training\n",
    "    model.train()\n",
    "    for batch in train_loader:\n",
    "        data = batch.to(device)\n",
    "        optimizer.zero_grad()\n",
    "        out = model(data)\n",
    "\n",
    "        loss = F.mse_loss(out, data.y)  # MSE loss for regression\n",
    "        loss.backward()\n",
    "        optimizer.step()\n",
    "\n",
    "        train_loss += loss.item() * data.num_graphs\n",
    "\n",
    "    # Testing\n",
    "    model.eval()\n",
    "    with torch.no_grad():\n",
    "        for batch in test_loader:\n",
    "            data = batch.to(device)\n",
    "            out = model(data)\n",
    "            loss = F.mse_loss(out, data.y)  # MSE loss for regression\n",
    "\n",
    "            test_loss += loss.item() * data.num_graphs\n",
    "\n",
    "    # Compute average loss\n",
    "    train_loss /= len(train_loader.dataset)\n",
    "    test_loss /= len(test_loader.dataset)\n",
    "\n",
    "    if epoch % 100 == 0:\n",
    "        print(f\"Epoch: {epoch}, Train Loss: {train_loss}, Test Loss: {test_loss}\")\n",
    "\n",
    "        # Save a checkpoint\n",
    "        checkpoint_path = os.path.join(checkpoint_dir, f'checkpoint_{epoch}.pt')\n",
    "        torch.save({\n",
    "            'epoch': epoch,\n",
    "            'model_state_dict': model.state_dict(),\n",
    "            'optimizer_state_dict': optimizer.state_dict(),\n",
    "            'train_loss': train_loss,\n",
    "            'test_loss': test_loss,\n",
    "        }, checkpoint_path)\n",
    "\n"
   ]
  },
  {
   "cell_type": "code",
   "execution_count": 8,
   "metadata": {},
   "outputs": [
    {
     "name": "stdout",
     "output_type": "stream",
     "text": [
      "Saved!\n"
     ]
    }
   ],
   "source": [
    "y_pred = np.zeros((26, 311203, 1))\n",
    "test_data_collect = np.zeros((26, 311203, 1))\n",
    "\n",
    "for i in range(len(test_data)- 1):\n",
    "    data = test_data[i].to(device)  # Move entire Data object to GPU\n",
    "    y_pred[i, :, :] = model(data).cpu().detach().numpy()\n",
    "    test_data_collect[i, :, :] = data.y.cpu().numpy()  # Move y back to CPU before converting to numpy\n",
    "    \n",
    "y_pred = np.squeeze(y_pred)\n",
    "#y_pred = scaler_output.inverse_transform(y_pred)\n",
    "np.save('./y_pred.npy', y_pred)\n",
    "\n",
    "test_data_collect = np.squeeze(test_data_collect)\n",
    "np.save('./test_data.npy', test_data_collect)\n",
    "print('Saved!')"
   ]
  },
  {
   "cell_type": "code",
   "execution_count": 7,
   "metadata": {},
   "outputs": [
    {
     "name": "stdout",
     "output_type": "stream",
     "text": [
      "(311203, 1)\n",
      "torch.Size([311203, 1])\n"
     ]
    },
    {
     "data": {
      "image/png": "[encoded data removed]",
      "text/plain": [
       "<Figure size 640x480 with 2 Axes>"
      ]
     },
     "metadata": {},
     "output_type": "display_data"
    }
   ],
   "source": [
    "k = 20\n",
    "\n",
    "data = test_data[k].to(device)  # Move entire Data object to GPU\n",
    "predictions = model(data)\n",
    "predictions = predictions.cpu()  # Move predictions to CPU\n",
    "print(predictions.detach().numpy().shape)\n",
    "\n",
    "import seaborn as sns\n",
    "import matplotlib.pyplot as plt\n",
    "\n",
    "plt.subplot(1,2,1)\n",
    "sns.histplot(predictions.detach().numpy())\n",
    "\n",
    "plt.subplot(1,2,2)\n",
    "sns.histplot(data.y.cpu().numpy())  # Move y back to CPU before converting to numpy\n",
    "\n",
    "print(data.y.shape)\n"
   ]
  }
 ],
 "metadata": {
  "kernelspec": {
   "display_name": "ws-pred",
   "language": "python",
   "name": "python3"
  },
  "language_info": {
   "codemirror_mode": {
    "name": "ipython",
    "version": 3
   },
   "file_extension": ".py",
   "mimetype": "text/x-python",
   "name": "python",
   "nbconvert_exporter": "python",
   "pygments_lexer": "ipython3",
   "version": "3.11.3"
  },
  "orig_nbformat": 4
 },
 "nbformat": 4,
 "nbformat_minor": 2
}
