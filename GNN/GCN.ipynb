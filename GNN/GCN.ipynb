{
 "cells": [
  {
   "cell_type": "code",
   "execution_count": 1,
   "metadata": {},
   "outputs": [],
   "source": [
    "import numpy as np\n",
    "import torch\n",
    "from torch_geometric.data import Data\n",
    "from torch_geometric.nn import GCNConv\n",
    "from scipy.sparse import coo_matrix\n",
    "from scipy.sparse import load_npz\n",
    "import torch.nn.functional as F\n",
    "import torch.optim as optim\n",
    "import torch.nn as nn\n",
    "from sklearn.model_selection import train_test_split\n",
    "from sklearn.preprocessing import MinMaxScaler\n",
    "\n",
    "# Scale input and output data\n",
    "scaler_input = MinMaxScaler()\n",
    "scaler_output = MinMaxScaler()\n",
    "\n",
    "class Net(torch.nn.Module):\n",
    "    def __init__(self, num_node_features, num_output_features):\n",
    "        super(Net, self).__init__()\n",
    "        self.conv1 = GCNConv(num_node_features, 128)\n",
    "        self.conv2 = GCNConv(128, 128)\n",
    "        self.conv3 = GCNConv(128, num_output_features)\n",
    "\n",
    "    def forward(self, data):\n",
    "        x, edge_index = data.x, data.edge_index\n",
    "\n",
    "        x = self.conv1(x, edge_index)\n",
    "        x = torch.nn.functional.relu(x)\n",
    "        x = torch.nn.functional.dropout(x, training=self.training)\n",
    "\n",
    "        x = self.conv2(x, edge_index)\n",
    "        x = torch.nn.functional.relu(x)\n",
    "        x = torch.nn.functional.dropout(x, training=self.training)\n",
    "\n",
    "        x = self.conv3(x, edge_index)\n",
    "        x = torch.nn.functional.relu(x)\n",
    "        x = torch.nn.functional.dropout(x, training=self.training)\n",
    "\n",
    "        return x\n",
    "\n",
    "\n",
    "# Load your input and output data\n",
    "input_data = np.load('../../WaveSuite/regularWave_U_data_0_to_131.npy')\n",
    "output_data = np.load('../../WaveSuite/regularWave_nut_data_0_to_131.npy')\n",
    "output_data = np.expand_dims(output_data, 2)\n",
    "#Load adjacency matrix\n",
    "adjacency_matrix = load_npz('../preprocessing/sparse_adjacency_matrix.npz')"
   ]
  },
  {
   "cell_type": "code",
   "execution_count": 4,
   "metadata": {},
   "outputs": [
    {
     "name": "stdout",
     "output_type": "stream",
     "text": [
      "Epoch: 0, Loss: 0.030350619927048683\n",
      "Epoch: 10, Loss: 0.007992344908416271\n",
      "Epoch: 20, Loss: 0.007678485941141844\n",
      "Epoch: 30, Loss: 0.007639199495315552\n",
      "Epoch: 40, Loss: 0.0076232487335801125\n",
      "Test MSE: 0.00656849012227246\n"
     ]
    }
   ],
   "source": [
    "def scaler(x, xmin, xmax, min, max):\n",
    "    scale = (max - min) / (xmax - xmin)\n",
    "    xScaled = scale * x + min - xmin * scale\n",
    "    return xScaled\n",
    "\n",
    "min_input = np.min(input_data, 0)\n",
    "max_input = np.max(input_data, 0)\n",
    "min_output = np.min(output_data, 0)\n",
    "max_output = np.max(output_data, 0)\n",
    "minimum = 0\n",
    "maximum = 1\n",
    "\n",
    "\n",
    "scaled_input_data = scaler(input_data, min_input, max_input, minimum, maximum)\n",
    "scaled_output_data = scaler(output_data, min_output, max_output, minimum, maximum)\n",
    "\n",
    "# Prepare edge_index\n",
    "rows, cols = adjacency_matrix.nonzero()\n",
    "edge_index = torch.tensor([rows, cols], dtype=torch.long)\n",
    "\n",
    "# Define the dataset as a list of Data objects\n",
    "all_data = []\n",
    "for i in range(input_data.shape[0]):\n",
    "    x = torch.tensor(scaled_input_data[i, :, :], dtype=torch.float)\n",
    "    y = torch.tensor(scaled_output_data[i, :, :], dtype=torch.float)\n",
    "    data = Data(x=x, y=y, edge_index=edge_index)\n",
    "    all_data.append(data)\n",
    "\n",
    "# Now we split our dataset into training and testing sets\n",
    "train_data, test_data = train_test_split(all_data, test_size=0.2, random_state=42)\n",
    "\n",
    "# Model\n",
    "model = Net(num_node_features=input_data.shape[2], num_output_features=output_data.shape[2])\n",
    "optimizer = optim.Adam(model.parameters(), lr=0.0001)\n",
    "\n",
    "# Training loop\n",
    "model.train()\n",
    "for epoch in range(50):\n",
    "    for data in train_data:\n",
    "        optimizer.zero_grad()\n",
    "        out = model(data)\n",
    "        loss = F.mse_loss(out, data.y)  # MSE loss for regression\n",
    "        loss.backward()\n",
    "        optimizer.step()\n",
    "    if epoch % 10 == 0:\n",
    "        print(f\"Epoch: {epoch}, Loss: {loss.item()}\")\n",
    "\n",
    "# Test\n",
    "model.eval()\n",
    "correct = 0\n",
    "for data in test_data:\n",
    "    with torch.no_grad():\n",
    "        predictions = model(data)\n",
    "        correct += F.mse_loss(predictions, data.y).item()\n",
    "\n",
    "print(f'Test MSE: {correct / len(test_data)}')\n"
   ]
  },
  {
   "cell_type": "code",
   "execution_count": 5,
   "metadata": {},
   "outputs": [
    {
     "data": {
      "text/plain": [
       "49"
      ]
     },
     "execution_count": 5,
     "metadata": {},
     "output_type": "execute_result"
    }
   ],
   "source": [
    "epoch"
   ]
  },
  {
   "cell_type": "code",
   "execution_count": 6,
   "metadata": {},
   "outputs": [
    {
     "name": "stdout",
     "output_type": "stream",
     "text": [
      "models saved!\n"
     ]
    }
   ],
   "source": [
    "torch.save(model, '../GNN/models/GCN_rW.pth')\n",
    "torch.save(model.state_dict(), '../GNN/models/GCN_rW_params.pth')\n",
    "print('models saved!')\n"
   ]
  },
  {
   "cell_type": "code",
   "execution_count": 7,
   "metadata": {},
   "outputs": [
    {
     "name": "stderr",
     "output_type": "stream",
     "text": [
      "2023-06-13 13:19:30.643603: I tensorflow/core/util/port.cc:110] oneDNN custom operations are on. You may see slightly different numerical results due to floating-point round-off errors from different computation orders. To turn them off, set the environment variable `TF_ENABLE_ONEDNN_OPTS=0`.\n",
      "2023-06-13 13:19:30.788757: I tensorflow/core/platform/cpu_feature_guard.cc:182] This TensorFlow binary is optimized to use available CPU instructions in performance-critical operations.\n",
      "To enable the following instructions: AVX2 AVX512F AVX512_VNNI FMA, in other operations, rebuild TensorFlow with the appropriate compiler flags.\n",
      "2023-06-13 13:19:31.376016: W tensorflow/compiler/tf2tensorrt/utils/py_utils.cc:38] TF-TRT Warning: Could not find TensorRT\n",
      "/home/caq13/miniconda3/envs/ws-pred/lib/python3.11/site-packages/tensorflow_addons/utils/tfa_eol_msg.py:23: UserWarning: \n",
      "\n",
      "TensorFlow Addons (TFA) has ended development and introduction of new features.\n",
      "TFA has entered a minimal maintenance and release mode until a planned end of life in May 2024.\n",
      "Please modify downstream libraries to take dependencies from other repositories in our TensorFlow community (e.g. Keras, Keras-CV, and Keras-NLP). \n",
      "\n",
      "For more information see: https://github.com/tensorflow/addons/issues/2807 \n",
      "\n",
      "  warnings.warn(\n"
     ]
    },
    {
     "ename": "RuntimeError",
     "evalue": "[enforce fail at alloc_cpu.cpp:75] err == 0. DefaultCPUAllocator: can't allocate memory: you tried to allocate 387389228836 bytes. Error code 12 (Cannot allocate memory)",
     "output_type": "error",
     "traceback": [
      "\u001b[0;31m---------------------------------------------------------------------------\u001b[0m",
      "\u001b[0;31mRuntimeError\u001b[0m                              Traceback (most recent call last)",
      "Cell \u001b[0;32mIn[7], line 8\u001b[0m\n\u001b[1;32m      6\u001b[0m num_nodes \u001b[39m=\u001b[39m adjacency_matrix\u001b[39m.\u001b[39mshape[\u001b[39m0\u001b[39m]  \u001b[39m# or replace with actual number of nodes in your graph\u001b[39;00m\n\u001b[1;32m      7\u001b[0m num_node_features \u001b[39m=\u001b[39m input_data\u001b[39m.\u001b[39mshape[\u001b[39m1\u001b[39m]  \u001b[39m# or replace with actual number of node features in your graph\u001b[39;00m\n\u001b[0;32m----> 8\u001b[0m dummy_input \u001b[39m=\u001b[39m Data(x\u001b[39m=\u001b[39mtorch\u001b[39m.\u001b[39;49mrandn(num_nodes, num_node_features), \n\u001b[1;32m      9\u001b[0m                    edge_index\u001b[39m=\u001b[39medge_index, \n\u001b[1;32m     10\u001b[0m                    y\u001b[39m=\u001b[39mtorch\u001b[39m.\u001b[39mrandn(num_nodes,))\n\u001b[1;32m     12\u001b[0m \u001b[39m# Export to ONNX\u001b[39;00m\n\u001b[1;32m     13\u001b[0m torch\u001b[39m.\u001b[39monnx\u001b[39m.\u001b[39mexport(model, (dummy_input\u001b[39m.\u001b[39mx, dummy_input\u001b[39m.\u001b[39medge_index), \u001b[39m'\u001b[39m\u001b[39mmodel.onnx\u001b[39m\u001b[39m'\u001b[39m)\n",
      "\u001b[0;31mRuntimeError\u001b[0m: [enforce fail at alloc_cpu.cpp:75] err == 0. DefaultCPUAllocator: can't allocate memory: you tried to allocate 387389228836 bytes. Error code 12 (Cannot allocate memory)"
     ]
    }
   ],
   "source": [
    "import torch\n",
    "import onnx\n",
    "from onnx_tf.backend import prepare\n",
    "\n",
    "# Dummy Input\n",
    "num_nodes = adjacency_matrix.shape[0]  # or replace with actual number of nodes in your graph\n",
    "num_node_features = input_data.shape[1]  # or replace with actual number of node features in your graph\n",
    "dummy_input = Data(x=torch.randn(num_nodes, num_node_features), \n",
    "                   edge_index=edge_index, \n",
    "                   y=torch.randn(num_nodes,))\n",
    "\n",
    "# Export to ONNX\n",
    "torch.onnx.export(model, (dummy_input.x, dummy_input.edge_index), 'model.onnx')\n",
    "\n",
    "# Load the ONNX model\n",
    "onnx_model = onnx.load('model.onnx')\n",
    "\n",
    "# Convert to TensorFlow format\n",
    "tf_rep = prepare(onnx_model)\n",
    "\n",
    "# Save model as .pb\n",
    "tf_rep.export_graph('model.pb')\n"
   ]
  },
  {
   "cell_type": "code",
   "execution_count": 8,
   "metadata": {},
   "outputs": [
    {
     "name": "stdout",
     "output_type": "stream",
     "text": [
      "Saved!\n"
     ]
    }
   ],
   "source": [
    "y_pred = np.zeros((26, 311203, 1))\n",
    "test_data_collect = np.zeros((26, 311203, 1))\n",
    "\n",
    "for i in range(len(test_data)- 1):\n",
    "    y_pred[i, :, :] = model(test_data[i]).detach().numpy()\n",
    "    test_data_collect[i, :, :] = test_data[i].y\n",
    "y_pred = np.squeeze(y_pred)\n",
    "y_pred = scaler_output.inverse_transform(y_pred)\n",
    "np.save('./y_pred.npy', y_pred)\n",
    "test_data_collect = np.squeeze(test_data_collect)\n",
    "np.save('./test_data.npy', test_data_collect)\n",
    "print('Saved!')\n"
   ]
  },
  {
   "cell_type": "code",
   "execution_count": 10,
   "metadata": {},
   "outputs": [
    {
     "name": "stdout",
     "output_type": "stream",
     "text": [
      "(311203, 1)\n"
     ]
    },
    {
     "name": "stderr",
     "output_type": "stream",
     "text": [
      "/tmp/ipykernel_1320156/793133536.py:8: UserWarning: \n",
      "\n",
      "`distplot` is a deprecated function and will be removed in seaborn v0.14.0.\n",
      "\n",
      "Please adapt your code to use either `displot` (a figure-level function with\n",
      "similar flexibility) or `histplot` (an axes-level function for histograms).\n",
      "\n",
      "For a guide to updating your code to use the new functions, please see\n",
      "https://gist.github.com/mwaskom/de44147ed2974457ad6372750bbe5751\n",
      "\n",
      "  sns.distplot(predictions.detach().numpy())\n",
      "/tmp/ipykernel_1320156/793133536.py:10: UserWarning: \n",
      "\n",
      "`distplot` is a deprecated function and will be removed in seaborn v0.14.0.\n",
      "\n",
      "Please adapt your code to use either `displot` (a figure-level function with\n",
      "similar flexibility) or `histplot` (an axes-level function for histograms).\n",
      "\n",
      "For a guide to updating your code to use the new functions, please see\n",
      "https://gist.github.com/mwaskom/de44147ed2974457ad6372750bbe5751\n",
      "\n",
      "  sns.distplot(test_data[k].y)\n"
     ]
    },
    {
     "name": "stdout",
     "output_type": "stream",
     "text": [
      "torch.Size([311203, 1])\n"
     ]
    },
    {
     "data": {
      "image/png": "[encoded data removed]",
      "text/plain": [
       "<Figure size 640x480 with 2 Axes>"
      ]
     },
     "metadata": {},
     "output_type": "display_data"
    }
   ],
   "source": [
    "k = 13\n",
    "predictions = model(test_data[k])\n",
    "predictions\n",
    "print(predictions.detach().numpy().shape)\n",
    "import seaborn as sns\n",
    "import matplotlib.pyplot as plt\n",
    "plt.subplot(1,2,1)\n",
    "sns.distplot(predictions.detach().numpy())\n",
    "plt.subplot(1,2,2)\n",
    "sns.distplot(test_data[k].y)\n",
    "print(test_data[k].y.shape)\n"
   ]
  },
  {
   "cell_type": "code",
   "execution_count": 25,
   "metadata": {},
   "outputs": [
    {
     "data": {
      "text/plain": [
       "tensor([[5.7364e-05],\n",
       "        [5.4758e-05],\n",
       "        [5.4296e-05],\n",
       "        ...,\n",
       "        [4.8097e-06],\n",
       "        [1.3074e-06],\n",
       "        [1.4395e-06]])"
      ]
     },
     "execution_count": 25,
     "metadata": {},
     "output_type": "execute_result"
    }
   ],
   "source": [
    "test_data[0].y"
   ]
  },
  {
   "cell_type": "code",
   "execution_count": 35,
   "metadata": {},
   "outputs": [],
   "source": [
    "import pyvista as pv\n",
    "#Add mesh\n",
    "mesh_to_print = pv.read('../../WaveSuite/regularWave/regularWave_1.vtu')\n",
    "\n",
    "mesh_to_print['nut'] = predictions.detach().numpy()\n"
   ]
  },
  {
   "cell_type": "code",
   "execution_count": null,
   "metadata": {},
   "outputs": [],
   "source": [
    "import pyvista as pv\n",
    "\n",
    "# Create a plotter object\n",
    "plotter = pv.Plotter()\n",
    "\n",
    "# Load your mesh\n",
    "mesh = pv.read('../../WaveSuite/regularWave/regularWave_1.vtu')\n",
    "\n",
    "# Add the mesh to the plotter\n",
    "plotter.add_mesh(mesh)\n",
    "\n",
    "# Set view if needed\n",
    "# plotter.view_xyz()  # this is just an example\n",
    "\n",
    "# Save screenshot\n",
    "plotter.screenshot('mesh_screenshot.png')"
   ]
  }
 ],
 "metadata": {
  "kernelspec": {
   "display_name": "ws-pred",
   "language": "python",
   "name": "python3"
  },
  "language_info": {
   "codemirror_mode": {
    "name": "ipython",
    "version": 3
   },
   "file_extension": ".py",
   "mimetype": "text/x-python",
   "name": "python",
   "nbconvert_exporter": "python",
   "pygments_lexer": "ipython3",
   "version": "3.11.3"
  },
  "orig_nbformat": 4
 },
 "nbformat": 4,
 "nbformat_minor": 2
}
