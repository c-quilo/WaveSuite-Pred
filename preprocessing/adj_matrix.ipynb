{
 "cells": [
  {
   "cell_type": "code",
   "execution_count": 5,
   "metadata": {},
   "outputs": [],
   "source": [
    "import pyvista as pv\n",
    "import numpy as np\n",
    "from scipy.sparse import coo_matrix\n",
    "from itertools import combinations\n",
    "\n",
    "# Load the .vtu file\n",
    "mesh = pv.read('../../WaveSuite/regularWave/regularWave_1.vtu')\n",
    "\n",
    "offset, cells = mesh.cells[::4], mesh.cells[1::4].reshape(-1, 3)\n",
    "\n",
    "# Create list to store edges\n",
    "edges = []\n",
    "\n",
    "# Create edges for each cell (triangle in this case)\n",
    "for cell in cells:\n",
    "    for edge in combinations(cell, 2):\n",
    "        edges.append(edge)\n",
    "\n",
    "# Convert list of edges to numpy array\n",
    "edges = np.array(edges)\n",
    "\n",
    "# Create the adjacency matrix as a sparse matrix\n",
    "adjacency_matrix = coo_matrix((np.ones(edges.shape[0]), (edges[:,0], edges[:,1])), shape=(mesh.n_points, mesh.n_points))\n",
    "\n",
    "# Make adjacency matrix symmetric\n",
    "adjacency_matrix = adjacency_matrix + adjacency_matrix.T - coo_matrix((np.ones(edges.shape[0]), (edges[:,1], edges[:,0])), shape=(mesh.n_points, mesh.n_points))\n"
   ]
  },
  {
   "cell_type": "code",
   "execution_count": 6,
   "metadata": {},
   "outputs": [],
   "source": [
    "from scipy.sparse import save_npz\n",
    "\n",
    "# Save to file\n",
    "save_npz('../preprocessing/sparse_adjacency_matrix.npz', adjacency_matrix)"
   ]
  }
 ],
 "metadata": {
  "kernelspec": {
   "display_name": "ws-pred",
   "language": "python",
   "name": "python3"
  },
  "language_info": {
   "codemirror_mode": {
    "name": "ipython",
    "version": 3
   },
   "file_extension": ".py",
   "mimetype": "text/x-python",
   "name": "python",
   "nbconvert_exporter": "python",
   "pygments_lexer": "ipython3",
   "version": "3.11.3"
  },
  "orig_nbformat": 4
 },
 "nbformat": 4,
 "nbformat_minor": 2
}
