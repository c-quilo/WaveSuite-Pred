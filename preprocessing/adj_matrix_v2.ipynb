{
 "cells": [
  {
   "cell_type": "code",
   "execution_count": 44,
   "metadata": {},
   "outputs": [],
   "source": [
    "import numpy as np\n",
    "import vtktools\n",
    "import torch\n",
    "import time \n",
    "from tqdm import tqdm\n",
    "from scipy.sparse import csr_matrix"
   ]
  },
  {
   "cell_type": "code",
   "execution_count": 45,
   "metadata": {},
   "outputs": [],
   "source": [
    "def get_edge_list_for_node(input, vtu_graph):\n",
    "    \n",
    "    node_neighbours = vtu_graph.GetPointPoints(input)\n",
    "    node_edge_list = []\n",
    "    \n",
    "    for node in node_neighbours:\n",
    "        if node > input:  # change to >= to include the same node\n",
    "            node_edge_list.append([input, node])\n",
    "            \n",
    "    return node_edge_list\n",
    "\n",
    "def get_complete_edge_list(vtu_object, n_points):\n",
    "\n",
    "    complete_edge_list = [] \n",
    "    #complete_edge_list = csr_matrix((n_points, n_points))\n",
    "    for point in tqdm(range(n_points)):  #\n",
    "        #temp = get_edge_list_for_node(point, vtu_object)\n",
    "        #d2 = [item[1] for item in temp]\n",
    "        #print(d2)\n",
    "        complete_edge_list = complete_edge_list + get_edge_list_for_node(point, vtu_object)\n",
    "        #complete_edge_list[point, d2] = temp\n",
    "    complete_edge_list = np.array(complete_edge_list)\n",
    "    # complete_edge_list = torch.tensor(complete_edge_list).t()\n",
    "        \n",
    "    return complete_edge_list"
   ]
  },
  {
   "cell_type": "code",
   "execution_count": 37,
   "metadata": {},
   "outputs": [],
   "source": [
    "filename = '../../WaveSuite/regularWave/regularWave_1.vtu'\n",
    "#First object\n",
    "first_object = vtktools.vtu(filename) "
   ]
  },
  {
   "cell_type": "code",
   "execution_count": 47,
   "metadata": {},
   "outputs": [
    {
     "data": {
      "text/plain": [
       "311203"
      ]
     },
     "execution_count": 47,
     "metadata": {},
     "output_type": "execute_result"
    }
   ],
   "source": [
    "#This two parameters are the same for every graph, so they would be calculated just once instead of in every iteration\n",
    "features_list = ['nut'] \n",
    "\n",
    "n_points = first_object.GetField(features_list[0]).shape[0]\n",
    "n_points "
   ]
  },
  {
   "cell_type": "code",
   "execution_count": 48,
   "metadata": {},
   "outputs": [
    {
     "name": "stderr",
     "output_type": "stream",
     "text": [
      "100%|██████████| 311203/311203 [1:51:39<00:00, 46.45it/s]  "
     ]
    },
    {
     "name": "stdout",
     "output_type": "stream",
     "text": [
      "6699.825669050217\n"
     ]
    },
    {
     "name": "stderr",
     "output_type": "stream",
     "text": [
      "\n"
     ]
    }
   ],
   "source": [
    "start = time.time()\n",
    "n_points = n_points\n",
    "complete_edge_list = get_complete_edge_list(first_object, n_points)\n",
    "\n",
    "end = time.time()\n",
    "\n",
    "print(end-start)"
   ]
  },
  {
   "cell_type": "code",
   "execution_count": 50,
   "metadata": {},
   "outputs": [],
   "source": [
    "filename = 'wave_complete_edge_list'\n",
    "np.save(filename+'.npy',complete_edge_list)\n"
   ]
  },
  {
   "cell_type": "code",
   "execution_count": 52,
   "metadata": {},
   "outputs": [
    {
     "data": {
      "text/plain": [
       "(3738056, 2)"
      ]
     },
     "execution_count": 52,
     "metadata": {},
     "output_type": "execute_result"
    }
   ],
   "source": [
    "complete_edge_list.shape"
   ]
  },
  {
   "cell_type": "code",
   "execution_count": 53,
   "metadata": {},
   "outputs": [
    {
     "name": "stdout",
     "output_type": "stream",
     "text": [
      "0.021915674209594727\n"
     ]
    }
   ],
   "source": [
    "start = time.time()\n",
    "\n",
    "complete_edge_list = torch.tensor(complete_edge_list).t()\n",
    "\n",
    "end = time.time()\n",
    "\n",
    "print(end-start)"
   ]
  },
  {
   "cell_type": "code",
   "execution_count": 54,
   "metadata": {},
   "outputs": [],
   "source": [
    "torch.save(complete_edge_list, filename+'.pt')"
   ]
  },
  {
   "attachments": {},
   "cell_type": "markdown",
   "metadata": {},
   "source": []
  }
 ],
 "metadata": {
  "kernelspec": {
   "display_name": "ws-pred",
   "language": "python",
   "name": "python3"
  },
  "language_info": {
   "codemirror_mode": {
    "name": "ipython",
    "version": 3
   },
   "file_extension": ".py",
   "mimetype": "text/x-python",
   "name": "python",
   "nbconvert_exporter": "python",
   "pygments_lexer": "ipython3",
   "version": "3.11.3"
  },
  "orig_nbformat": 4
 },
 "nbformat": 4,
 "nbformat_minor": 2
}
